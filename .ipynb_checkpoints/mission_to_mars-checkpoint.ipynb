{
 "cells": [
  {
   "cell_type": "code",
   "execution_count": 17,
   "id": "9dc9abc4",
   "metadata": {},
   "outputs": [],
   "source": [
    "# Import Dependencies\n",
    "from splinter import Browser\n",
    "from bs4 import BeautifulSoup as soup\n",
    "import pandas as pd\n",
    "from webdriver_manager.chrome import ChromeDriverManager\n",
    "from IPython.display import display"
   ]
  },
  {
   "cell_type": "code",
   "execution_count": 26,
   "id": "8a68a529",
   "metadata": {},
   "outputs": [],
   "source": [
    "# Executable path\n",
    "executable_path = {'executable_path': ChromeDriverManager().install()}\n",
    "browser = Browser('chrome', **executable_path, headless = False)"
   ]
  },
  {
   "cell_type": "code",
   "execution_count": 12,
   "id": "9904c87e",
   "metadata": {},
   "outputs": [
    {
     "name": "stdout",
     "output_type": "stream",
     "text": [
      "Latest News Title: While Stargazing on Mars, NASA's Curiosity Rover Spots Earth and Venus\n",
      "\n",
      "Latest News Paragraph: This new portrait of the Red Planet's neighbors was taken during a time when there's more dust in the air on Mars.\n"
     ]
    }
   ],
   "source": [
    "# Visit Mars News Site URL using splinter\n",
    "NASA_url = 'https://redplanetscience.com/'\n",
    "browser.visit(NASA_url)\n",
    "\n",
    "# Convert the browser html to a soup object\n",
    "html = browser.html\n",
    "NASA_soup = soup(html, 'html.parser')\n",
    "\n",
    "# Extract Title Text\n",
    "NASA_news_title = NASA_soup.find('div', class_ = 'content_title')\n",
    "display(f'Latest News Title: {NASA_news_title.text}\\n')\n",
    "\n",
    "# Extract Paragraph Text\n",
    "NASA_news_paragraph = NASA_soup.find('div', class_ = 'article_teaser_body')\n",
    "display(f'Latest News Paragraph: {NASA_news_paragraph.text}')"
   ]
  },
  {
   "cell_type": "code",
   "execution_count": 14,
   "id": "b1d28bd9",
   "metadata": {},
   "outputs": [
    {
     "data": {
      "text/plain": [
       "'https://spaceimages-mars.com/image/featured/mars1.jpg'"
      ]
     },
     "execution_count": 14,
     "metadata": {},
     "output_type": "execute_result"
    }
   ],
   "source": [
    "# Visit Mars Space Images URL using splinter\n",
    "Mars_image_url = 'https://spaceimages-mars.com/'\n",
    "browser.visit(Mars_image_url)\n",
    "\n",
    "# Convert the browser html to a soup object\n",
    "html = browser.html\n",
    "image_soup = soup(html, 'html.parser')\n",
    "\n",
    "# Extract the current Featured Mars Image\n",
    "results = image_soup.find_all('a', class_ = 'fancybox-thumbs')\n",
    "image_urls = []\n",
    "for result in results:\n",
    "    image_urls.append(Mars_image_url + result['href'])\n",
    "\n",
    "# Assign the URL string to a variable called featured_image_url\n",
    "featured_image_url = Mars_image_url + results[0]['href']\n",
    "featured_image_url"
   ]
  },
  {
   "cell_type": "code",
   "execution_count": 24,
   "id": "459b92e6",
   "metadata": {},
   "outputs": [
    {
     "data": {
      "text/html": [
       "<div>\n",
       "<style scoped>\n",
       "    .dataframe tbody tr th:only-of-type {\n",
       "        vertical-align: middle;\n",
       "    }\n",
       "\n",
       "    .dataframe tbody tr th {\n",
       "        vertical-align: top;\n",
       "    }\n",
       "\n",
       "    .dataframe thead th {\n",
       "        text-align: right;\n",
       "    }\n",
       "</style>\n",
       "<table border=\"1\" class=\"dataframe\">\n",
       "  <thead>\n",
       "    <tr style=\"text-align: right;\">\n",
       "      <th></th>\n",
       "      <th>Mars</th>\n",
       "      <th>Earth</th>\n",
       "    </tr>\n",
       "    <tr>\n",
       "      <th>Description</th>\n",
       "      <th></th>\n",
       "      <th></th>\n",
       "    </tr>\n",
       "  </thead>\n",
       "  <tbody>\n",
       "    <tr>\n",
       "      <th>Mars - Earth Comparison</th>\n",
       "      <td>Mars</td>\n",
       "      <td>Earth</td>\n",
       "    </tr>\n",
       "    <tr>\n",
       "      <th>Diameter:</th>\n",
       "      <td>6,779 km</td>\n",
       "      <td>12,742 km</td>\n",
       "    </tr>\n",
       "    <tr>\n",
       "      <th>Mass:</th>\n",
       "      <td>6.39 × 10^23 kg</td>\n",
       "      <td>5.97 × 10^24 kg</td>\n",
       "    </tr>\n",
       "    <tr>\n",
       "      <th>Moons:</th>\n",
       "      <td>2</td>\n",
       "      <td>1</td>\n",
       "    </tr>\n",
       "    <tr>\n",
       "      <th>Distance from Sun:</th>\n",
       "      <td>227,943,824 km</td>\n",
       "      <td>149,598,262 km</td>\n",
       "    </tr>\n",
       "    <tr>\n",
       "      <th>Length of Year:</th>\n",
       "      <td>687 Earth days</td>\n",
       "      <td>365.24 days</td>\n",
       "    </tr>\n",
       "    <tr>\n",
       "      <th>Temperature:</th>\n",
       "      <td>-87 to -5 °C</td>\n",
       "      <td>-88 to 58°C</td>\n",
       "    </tr>\n",
       "  </tbody>\n",
       "</table>\n",
       "</div>"
      ],
      "text/plain": [
       "                                    Mars            Earth\n",
       "Description                                              \n",
       "Mars - Earth Comparison             Mars            Earth\n",
       "Diameter:                       6,779 km        12,742 km\n",
       "Mass:                    6.39 × 10^23 kg  5.97 × 10^24 kg\n",
       "Moons:                                 2                1\n",
       "Distance from Sun:        227,943,824 km   149,598,262 km\n",
       "Length of Year:           687 Earth days      365.24 days\n",
       "Temperature:                -87 to -5 °C      -88 to 58°C"
      ]
     },
     "metadata": {},
     "output_type": "display_data"
    },
    {
     "name": "stdout",
     "output_type": "stream",
     "text": [
      "\n",
      "HTML table string: <table border=\"1\" class=\"dataframe\">\n",
      "  <thead>\n",
      "    <tr style=\"text-align: right;\">\n",
      "      <th></th>\n",
      "      <th>Mars</th>\n",
      "      <th>Earth</th>\n",
      "    </tr>\n",
      "    <tr>\n",
      "      <th>Description</th>\n",
      "      <th></th>\n",
      "      <th></th>\n",
      "    </tr>\n",
      "  </thead>\n",
      "  <tbody>\n",
      "    <tr>\n",
      "      <th>Mars - Earth Comparison</th>\n",
      "      <td>Mars</td>\n",
      "      <td>Earth</td>\n",
      "    </tr>\n",
      "    <tr>\n",
      "      <th>Diameter:</th>\n",
      "      <td>6,779 km</td>\n",
      "      <td>12,742 km</td>\n",
      "    </tr>\n",
      "    <tr>\n",
      "      <th>Mass:</th>\n",
      "      <td>6.39 × 10^23 kg</td>\n",
      "      <td>5.97 × 10^24 kg</td>\n",
      "    </tr>\n",
      "    <tr>\n",
      "      <th>Moons:</th>\n",
      "      <td>2</td>\n",
      "      <td>1</td>\n",
      "    </tr>\n",
      "    <tr>\n",
      "      <th>Distance from Sun:</th>\n",
      "      <td>227,943,824 km</td>\n",
      "      <td>149,598,262 km</td>\n",
      "    </tr>\n",
      "    <tr>\n",
      "      <th>Length of Year:</th>\n",
      "      <td>687 Earth days</td>\n",
      "      <td>365.24 days</td>\n",
      "    </tr>\n",
      "    <tr>\n",
      "      <th>Temperature:</th>\n",
      "      <td>-87 to -5 °C</td>\n",
      "      <td>-88 to 58°C</td>\n",
      "    </tr>\n",
      "  </tbody>\n",
      "</table>\n"
     ]
    }
   ],
   "source": [
    "# Visit Mars Facts Webpage URL using splinter\n",
    "Mars_fact_url = 'https://galaxyfacts-mars.com/'\n",
    "\n",
    "# Use Pandas' function 'read_html' to parse the URL and scrape all data\n",
    "table = pd.read_html(Mars_fact_url)\n",
    "\n",
    "# Convert tabular data into a dataframe to rename columns\n",
    "facts_table = table[0]\n",
    "\n",
    "# Rename columns and reset index\n",
    "facts_table = facts_table.rename(columns = {0: 'Description', 1: 'Mars', 2: 'Earth'})\n",
    "facts_table.set_index('Description', inplace = True)\n",
    "display(facts_table)\n",
    "\n",
    "# Use Pandas to convert dataframe to HTML table string\n",
    "mars_html = facts_table.to_html()\n",
    "print(f'\\nHTML table string: {mars_html}')"
   ]
  },
  {
   "cell_type": "code",
   "execution_count": 27,
   "id": "9e2e1ce0",
   "metadata": {},
   "outputs": [
    {
     "data": {
      "text/plain": [
       "[{'title': 'Cerberus Hemisphere Enhanced',\n",
       "  'img_url': 'images/39d3266553462198bd2fbc4d18fbed17_cerberus_enhanced.tif_thumb.png'},\n",
       " {'title': 'Schiaparelli Hemisphere Enhanced',\n",
       "  'img_url': 'images/08eac6e22c07fb1fe72223a79252de20_schiaparelli_enhanced.tif_thumb.png'},\n",
       " {'title': 'Syrtis Major Hemisphere Enhanced',\n",
       "  'img_url': 'images/55a0a1e2796313fdeafb17c35925e8ac_syrtis_major_enhanced.tif_thumb.png'},\n",
       " {'title': 'Valles Marineris Hemisphere Enhanced',\n",
       "  'img_url': 'images/4e59980c1c57f89c680c0e1ccabbeff1_valles_marineris_enhanced.tif_thumb.png'}]"
      ]
     },
     "execution_count": 27,
     "metadata": {},
     "output_type": "execute_result"
    }
   ],
   "source": [
    "# Visit Astrogeology Webpage URL using splinter\n",
    "Astrogeology_url = 'https://marshemispheres.com/'\n",
    "browser.visit(Astrogeology_url)\n",
    "\n",
    "# Convert the browser html to a soup object\n",
    "html = browser.html\n",
    "hemi_soup = soup(html, 'html.parser')\n",
    "\n",
    "# Extract the collect title and image URLs for high-resolution images for each hemisphere\n",
    "results = hemi_soup.find_all('div', class_ = 'item')\n",
    "hemi_urls = []\n",
    "for result in results:\n",
    "    title = result.find('h3').get_text()\n",
    "    img_url = result.find('img', class_ = 'thumb')['src']\n",
    "    hemi_urls.append({'title': title, 'img_url': img_url})\n",
    "\n",
    "hemi_urls"
   ]
  },
  {
   "cell_type": "code",
   "execution_count": null,
   "id": "0c6eb9f1",
   "metadata": {},
   "outputs": [],
   "source": []
  }
 ],
 "metadata": {
  "kernelspec": {
   "display_name": "Python 3 (ipykernel)",
   "language": "python",
   "name": "python3"
  },
  "language_info": {
   "codemirror_mode": {
    "name": "ipython",
    "version": 3
   },
   "file_extension": ".py",
   "mimetype": "text/x-python",
   "name": "python",
   "nbconvert_exporter": "python",
   "pygments_lexer": "ipython3",
   "version": "3.9.12"
  }
 },
 "nbformat": 4,
 "nbformat_minor": 5
}
